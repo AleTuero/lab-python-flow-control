{
 "cells": [
  {
   "cell_type": "markdown",
   "id": "d3bfc191-8885-42ee-b0a0-bbab867c6f9f",
   "metadata": {
    "tags": []
   },
   "source": [
    "# Lab | Flow Control"
   ]
  },
  {
   "cell_type": "markdown",
   "id": "3851fcd1-cf98-4653-9c89-e003b7ec9400",
   "metadata": {},
   "source": [
    "## Exercise: Managing Customer Orders Optimized\n",
    "\n",
    "In the last lab, you were starting an online store that sells various products. To ensure smooth operations, you developed a program that manages customer orders and inventory.\n",
    "\n",
    "You did so without using flow control. Let's go a step further and improve this code.\n",
    "\n",
    "Follow the steps below to complete the exercise:\n",
    "\n",
    "1. Look at your code from the lab data structures, and improve repeated code with loops.\n",
    "\n",
    "2. Instead of asking the user to input the name of three products that a customer wants to order, do the following:\n",
    "    \n",
    "    a. Prompt the user to enter the name of a product that a customer wants to order.\n",
    "    \n",
    "    b. Add the product name to the \"customer_orders\" set.\n",
    "    \n",
    "    c. Ask the user if they want to add another product (yes/no).\n",
    "    \n",
    "    d. Continue the loop until the user does not want to add another product.\n",
    "\n",
    "3. Instead of updating the inventory by subtracting 1 from the quantity of each product, only do it for  the products that were ordered (those in \"customer_orders\")."
   ]
  },
  {
   "cell_type": "markdown",
   "id": "0d5e8885",
   "metadata": {},
   "source": [
    "1. Look at your code from the lab data structures, and improve repeated code with loops."
   ]
  },
  {
   "cell_type": "code",
   "execution_count": 21,
   "id": "63e33e68",
   "metadata": {},
   "outputs": [],
   "source": [
    "# Creamos una lista de productos\n",
    "products = [\"t-shirt\", \"mug\", \"hat\", \"book\", \"keychain\"]"
   ]
  },
  {
   "cell_type": "code",
   "execution_count": 22,
   "id": "3d84612e",
   "metadata": {},
   "outputs": [],
   "source": [
    "# Creamos un diccionario vacio\n",
    "inventory = {}"
   ]
  },
  {
   "cell_type": "code",
   "execution_count": 26,
   "id": "5cbbfa1c",
   "metadata": {},
   "outputs": [],
   "source": [
    "# Pedimos al usuario que inserte las cantidades\n",
    "for product in products:\n",
    "    quantity = int(input(f'Enter the quatity of product {product}'))\n",
    "    inventory[product] = quantity"
   ]
  },
  {
   "cell_type": "code",
   "execution_count": 24,
   "id": "7f3e9360",
   "metadata": {},
   "outputs": [],
   "source": [
    "# Creamos el conjunto de pedidos\n",
    "customers_orders = set()"
   ]
  },
  {
   "cell_type": "code",
   "execution_count": 27,
   "id": "fc33f15f",
   "metadata": {},
   "outputs": [],
   "source": [
    "# Pedimos al usuario que introduzca 3 productos\n",
    "for x in range(3):\n",
    "    input_product = input(\"Enter three products from those in the products list: \")\n",
    "    if input_product in products:\n",
    "        customers_orders.add(input_product)\n",
    "    else:\n",
    "        print(\"Sorry, we don't have that product. \")"
   ]
  },
  {
   "cell_type": "code",
   "execution_count": 40,
   "id": "49e801f0",
   "metadata": {},
   "outputs": [
    {
     "name": "stdout",
     "output_type": "stream",
     "text": [
      "Order products:  {'hat', 'mug', 'book'}\n"
     ]
    }
   ],
   "source": [
    "# Imprimir los productos pedidos\n",
    "print(\"Order products: \", (customers_orders))"
   ]
  },
  {
   "cell_type": "code",
   "execution_count": 41,
   "id": "ca14c0bc",
   "metadata": {},
   "outputs": [],
   "source": [
    "# Calculamos las estadisticas del pedido\n",
    "total_products_ordered = len(customers_orders)\n",
    "percentage_ordered = (total_products_ordered / len(products)) * 100\n",
    "order_status = (total_products_ordered, percentage_ordered,)"
   ]
  },
  {
   "cell_type": "code",
   "execution_count": 46,
   "id": "0d5eef22",
   "metadata": {},
   "outputs": [
    {
     "name": "stdout",
     "output_type": "stream",
     "text": [
      "\n",
      "Order Statistcs: \n",
      "Total number of products ordered: 3\n",
      "Percentage of total products ordereds: 60.0 %\n"
     ]
    }
   ],
   "source": [
    "# Imprimir estadisticas\n",
    "print(\"\\nOrder Statistcs: \")\n",
    "print(f\"Total number of products ordered: {order_status[0]}\")\n",
    "print(f\"Percentage of total products ordereds: {order_status[1]:} %\")"
   ]
  },
  {
   "cell_type": "code",
   "execution_count": 47,
   "id": "073d8f35",
   "metadata": {},
   "outputs": [],
   "source": [
    "# Actualizamos el inventario\n",
    "for product in customers_orders:\n",
    "    if inventory[product] > 0:\n",
    "        inventory[product] -= 1"
   ]
  },
  {
   "cell_type": "code",
   "execution_count": 45,
   "id": "4043d79e",
   "metadata": {},
   "outputs": [
    {
     "name": "stdout",
     "output_type": "stream",
     "text": [
      "\n",
      "Updated inventory\n",
      "t-shirt: 9\n",
      "mug: 1\n",
      "hat: 2\n",
      "book: 4\n",
      "keychain: 10\n"
     ]
    }
   ],
   "source": [
    "# Imprimimos el inventario actualizado\n",
    "print(\"\\nUpdated inventory\")\n",
    "for product, quantity in inventory.items():\n",
    "    print(f\"{product}: {quantity}\")"
   ]
  },
  {
   "cell_type": "markdown",
   "id": "11d87ee2",
   "metadata": {},
   "source": [
    "2. Instead of asking the user to input the name of three products that a customer wants to order, do the following:\n",
    "    \n",
    "    a. Prompt the user to enter the name of a product that a customer wants to order.\n",
    "    \n",
    "    b. Add the product name to the \"customer_orders\" set.\n",
    "    \n",
    "    c. Ask the user if they want to add another product (yes/no).\n",
    "    \n",
    "    d. Continue the loop until the user does not want to add another product."
   ]
  },
  {
   "cell_type": "code",
   "execution_count": 19,
   "id": "6edb1785",
   "metadata": {},
   "outputs": [],
   "source": [
    "# Lista de productos, con inventario, la cantidad que se introduce y donde guardamos los pedidos\n",
    "products = [\"t-shirt\", \"mug\", \"hat\", \"book\", \"keychain\"]\n",
    "\n",
    "inventory = {}\n",
    "\n",
    "for product in products:\n",
    "    quantity = int(input(f'Enter the quatity of product {product}'))\n",
    "    inventory[product] = quantity\n",
    "\n",
    "customer_order = set()"
   ]
  },
  {
   "cell_type": "code",
   "execution_count": 21,
   "id": "f7afedfd",
   "metadata": {},
   "outputs": [
    {
     "name": "stdout",
     "output_type": "stream",
     "text": [
      "'hat' added to the order\n",
      "'mug' added to the order\n"
     ]
    }
   ],
   "source": [
    "# Pedimos al usuario que ingrese un producto que desea pedir\n",
    "while True:\n",
    "    product = input(\"Enter a product you wish to order: \")\n",
    "    if product in products:\n",
    "        customer_order.add(product)\n",
    "        print(f\"'{product}' added to the order\")\n",
    "    else:\n",
    "        print(f\"Sorry, we don't have '{product}' in our store. \")\n",
    "\n",
    "    other_product = input(\"Do you want to add another product? (yes/no): \")\n",
    "    if other_product != \"yes\":\n",
    "        break"
   ]
  },
  {
   "cell_type": "markdown",
   "id": "4cf4922c",
   "metadata": {},
   "source": [
    "3. Instead of updating the inventory by subtracting 1 from the quantity of each product, only do it for  the products that were ordered (those in \"customer_orders\")."
   ]
  },
  {
   "cell_type": "code",
   "execution_count": null,
   "id": "098b9580",
   "metadata": {},
   "outputs": [
    {
     "name": "stdout",
     "output_type": "stream",
     "text": [
      "\n",
      "Update Inventory: \n",
      "t-shirt: 9\n",
      "mug: 7\n",
      "hat: 6\n",
      "book: 6\n",
      "keychain: 5\n"
     ]
    }
   ],
   "source": [
    "# Actualizamos el inventario y lo imprimimos\n",
    "for product in customer_order:\n",
    "    if inventory[product] > 0:\n",
    "        inventory[product] -= 1\n",
    "\n",
    "print(\"\\nUpdate Inventory: \")\n",
    "for product, quantity in inventory.items():\n",
    "    print(f\"{product}: {quantity}\")"
   ]
  },
  {
   "cell_type": "code",
   "execution_count": null,
   "id": "a09f0d67",
   "metadata": {},
   "outputs": [],
   "source": []
  }
 ],
 "metadata": {
  "kernelspec": {
   "display_name": "Python 3",
   "language": "python",
   "name": "python3"
  },
  "language_info": {
   "codemirror_mode": {
    "name": "ipython",
    "version": 3
   },
   "file_extension": ".py",
   "mimetype": "text/x-python",
   "name": "python",
   "nbconvert_exporter": "python",
   "pygments_lexer": "ipython3",
   "version": "3.12.9"
  }
 },
 "nbformat": 4,
 "nbformat_minor": 5
}
